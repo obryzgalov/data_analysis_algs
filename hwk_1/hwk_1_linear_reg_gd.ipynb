{
 "cells": [
  {
   "cell_type": "markdown",
   "metadata": {},
   "source": [
    "    1) Подберите скорость обучения (alpha) и количество итераций\n",
    "    2) В этом коде мы избавляемся от итераций по весам, но здесь есть ошибка, исправьте её. (код в материалах к уроку)\n",
    "    3) Вместо того чтобы задавать количество итераций, задайте условие остановки алгоритма, когда ошибка за итерацию начинает изменяться ниже определённого порога — упрощённый аналог параметра tol в линейной регрессии в sklearn."
   ]
  },
  {
   "cell_type": "code",
   "execution_count": 1,
   "metadata": {
    "colab": {},
    "colab_type": "code",
    "id": "bJ1KA9cq9INW"
   },
   "outputs": [],
   "source": [
    "import numpy as np\n",
    "import matplotlib.pyplot as plt"
   ]
  },
  {
   "cell_type": "markdown",
   "metadata": {},
   "source": [
    "__Задача:__ предсказание баллов ЕГЭ ученика в зависимости от кол-ва лет стажа его репетитора"
   ]
  },
  {
   "cell_type": "code",
   "execution_count": 2,
   "metadata": {
    "colab": {},
    "colab_type": "code",
    "id": "i77tZbAd5plB"
   },
   "outputs": [],
   "source": [
    "X = np.array([[ 1,  1],\n",
    "              [ 1,  1],\n",
    "              [ 1,  2],\n",
    "              [ 1,  5],\n",
    "              [ 1,  3],\n",
    "              [ 1,  0],\n",
    "              [ 1,  5],\n",
    "              [ 1, 10],\n",
    "              [ 1,  1],\n",
    "              [ 1,  2]])"
   ]
  },
  {
   "cell_type": "code",
   "execution_count": 3,
   "metadata": {
    "colab": {
     "base_uri": "https://localhost:8080/",
     "height": 34
    },
    "colab_type": "code",
    "id": "ejifaMBe6VaP",
    "outputId": "190a541b-5c6d-48f6-8982-b513de5d7606"
   },
   "outputs": [
    {
     "data": {
      "text/plain": [
       "(10, 2)"
      ]
     },
     "execution_count": 3,
     "metadata": {},
     "output_type": "execute_result"
    }
   ],
   "source": [
    "X.shape"
   ]
  },
  {
   "cell_type": "code",
   "execution_count": 4,
   "metadata": {
    "colab": {},
    "colab_type": "code",
    "id": "VsNrKi1Q6Wmh"
   },
   "outputs": [],
   "source": [
    "y = [45, 55, 50, 55, 60, 35, 75, 80, 50, 60]"
   ]
  },
  {
   "cell_type": "code",
   "execution_count": 5,
   "metadata": {
    "colab": {},
    "colab_type": "code",
    "id": "JTSC2cFnCd8T"
   },
   "outputs": [],
   "source": [
    "def calc_mae(y, y_pred):\n",
    "    err = np.mean(np.abs(y - y_pred))\n",
    "    return err\n",
    "\n",
    "def calc_mse(y, y_pred):\n",
    "    err = np.mean((y - y_pred)**2)\n",
    "    return err"
   ]
  },
  {
   "cell_type": "markdown",
   "metadata": {
    "colab_type": "text",
    "id": "huXrhXQsZTMt"
   },
   "source": [
    "    1. Подберите скорость обучения (eta) и количество итераций.\n",
    "    Для удобства оставляю \"дано\": "
   ]
  },
  {
   "cell_type": "code",
   "execution_count": 6,
   "metadata": {
    "colab": {
     "base_uri": "https://localhost:8080/",
     "height": 185
    },
    "colab_type": "code",
    "id": "IDB22MQKMYaJ",
    "outputId": "4c03219e-a57c-4583-f439-6699fd0619bb"
   },
   "outputs": [
    {
     "name": "stdout",
     "output_type": "stream",
     "text": [
      "Number of objects = 10        \n",
      "Learning rate = 0.01        \n",
      "Initial weights = [1.  0.5] \n",
      "\n",
      "Iteration #0: W_new = [2.08 4.27], MSE = 3047.75\n",
      "Iteration #10: W_new = [ 6.67106886 10.61676385], MSE = 749.71\n",
      "Iteration #20: W_new = [ 9.49320908 10.25731657], MSE = 648.91\n",
      "Iteration #30: W_new = [11.85740092  9.83349244], MSE = 570.46\n",
      "Iteration #40: W_new = [13.86876921  9.46898661], MSE = 508.03\n",
      "Iteration #50: W_new = [15.59085668  9.15672679], MSE = 457.73\n",
      "Iteration #60: W_new = [17.07337653  8.88789585], MSE = 416.77\n",
      "Iteration #70: W_new = [18.35601294  8.65530964], MSE = 383.06\n",
      "Iteration #80: W_new = [19.47073522  8.45317196], MSE = 355.08\n",
      "Iteration #90: W_new = [20.44350656  8.27677488], MSE = 331.65\n"
     ]
    }
   ],
   "source": [
    "n = X.shape[0]\n",
    "\n",
    "eta = 1e-2 #0.01\n",
    "n_iter = 100\n",
    "\n",
    "W = np.array([1, 0.5])\n",
    "print(f'Number of objects = {n} \\\n",
    "       \\nLearning rate = {eta} \\\n",
    "       \\nInitial weights = {W} \\n')\n",
    "\n",
    "for i in range(n_iter):\n",
    "    y_pred = np.dot(X, W)\n",
    "    err = calc_mse(y, y_pred)\n",
    "    for k in range(W.shape[0]):\n",
    "        W[k] -= eta * (1/n * 2 * X[:, k] @ (y_pred - y))\n",
    "    if i % 10 == 0:\n",
    "        eta /= 1.1\n",
    "        print(f'Iteration #{i}: W_new = {W}, MSE = {round(err, 2)}')"
   ]
  },
  {
   "cell_type": "code",
   "execution_count": 7,
   "metadata": {
    "scrolled": true
   },
   "outputs": [
    {
     "name": "stdout",
     "output_type": "stream",
     "text": [
      "Number of objects = 10        \n",
      "Learning rate = 0.1        \n",
      "Initial weights = [1.  0.5] \n",
      "\n",
      "Iteration #0: W_new = [11.8 38.2], MSE = 3047.75\n",
      "таргет = [45, 55, 50, 55, 60, 35, 75, 80, 50, 60] предсказанное значение = [1.5 1.5 2.  3.5 2.5 1.  3.5 6.  1.5 2. ]\n",
      "Iteration #5: W_new = [ -329.76018913 -1924.91996868], MSE = 12349491.12\n",
      "таргет = [45, 55, 50, 55, 60, 35, 75, 80, 50, 60] предсказанное значение = [1002.32504975 1002.32504975 1836.47987104 4338.94433492 2670.63469233\n",
      "  168.17022845 4338.94433492 8509.71844139 1002.32504975 1836.47987104]\n",
      "Iteration #10: W_new = [17391.28045392 95752.24899692], MSE = 34871798746.47\n",
      "таргет = [45, 55, 50, 55, 60, 35, 75, 80, 50, 60] предсказанное значение = [ -51787.93164804  -51787.93164804  -95648.95994276 -227232.0448269\n",
      " -139509.98823747   -7926.90335333 -227232.0448269  -446537.18630046\n",
      "  -51787.93164804  -95648.95994276]\n",
      "Iteration #15: W_new = [ -600012.49625318 -3309054.77216856], MSE = 48101047563943.17\n",
      "таргет = [45, 55, 50, 55, 60, 35, 75, 80, 50, 60] предсказанное значение = [ 1924727.96713493  1924727.96713493  3553983.0095891   8441748.13695162\n",
      "  5183238.05204328   295472.92468076  8441748.13695162 16588023.34922248\n",
      "  1924727.96713493  3553983.0095891 ]\n",
      "Iteration #20: W_new = [14344970.35373059 79107543.40215816], MSE = 3.185737529368817e+16\n",
      "таргет = [45, 55, 50, 55, 60, 35, 75, 80, 50, 60] предсказанное значение = [-4.95322186e+07 -4.95322186e+07 -9.14612841e+07 -2.17248481e+08\n",
      " -1.33390350e+08 -7.60315310e+06 -2.17248481e+08 -4.26893808e+08\n",
      " -4.95322186e+07 -9.14612841e+07]\n",
      "Iteration #25: W_new = [-2.34931880e+08 -1.29557152e+09], MSE = 9.940423666507262e+18\n",
      "таргет = [45, 55, 50, 55, 60, 35, 75, 80, 50, 60] предсказанное значение = [8.74954821e+08 8.74954821e+08 1.61560425e+09 3.83755253e+09\n",
      " 2.35625368e+09 1.34305393e+08 3.83755253e+09 7.54079967e+09\n",
      " 8.74954821e+08 1.61560425e+09]\n",
      "Iteration #30: W_new = [2.60774773e+09 1.43808625e+10], MSE = 1.4309352034880397e+21\n",
      "таргет = [45, 55, 50, 55, 60, 35, 75, 80, 50, 60] предсказанное значение = [-1.04976754e+10 -1.04976754e+10 -1.93839602e+10 -4.60428144e+10\n",
      " -2.82702449e+10 -1.61139069e+09 -4.60428144e+10 -9.04742381e+10\n",
      " -1.04976754e+10 -1.93839602e+10]\n",
      "Iteration #35: W_new = [-1.93862611e+10 -1.06908793e+11], MSE = 9.283569003458464e+22\n",
      "таргет = [45, 55, 50, 55, 60, 35, 75, 80, 50, 60] предсказанное значение = [8.45552628e+10 8.45552628e+10 1.56131313e+11 3.70859462e+11\n",
      " 2.27707362e+11 1.29792131e+10 3.70859462e+11 7.28739711e+11\n",
      " 8.45552628e+10 1.56131313e+11]\n",
      "Iteration #40: W_new = [9.52447115e+10 5.25242954e+11], MSE = 2.644607733462148e+24\n",
      "таргет = [45, 55, 50, 55, 60, 35, 75, 80, 50, 60] предсказанное значение = [-4.51298397e+11 -4.51298397e+11 -8.33322595e+11 -1.97939519e+12\n",
      " -1.21534679e+12 -6.92741982e+10 -1.97939519e+12 -3.88951618e+12\n",
      " -4.51298397e+11 -8.33322595e+11]\n",
      "Iteration #45: W_new = [-3.04649729e+11 -1.68004209e+12], MSE = 3.212446247374356e+25\n",
      "таргет = [45, 55, 50, 55, 60, 35, 75, 80, 50, 60] предсказанное значение = [1.57289993e+12 1.57289993e+12 2.90436009e+12 6.89874057e+12\n",
      " 4.23582025e+12 2.41439771e+11 6.89874057e+12 1.35560414e+13\n",
      " 1.57289993e+12 2.90436009e+12]\n",
      "Iteration #50: W_new = [6.23758754e+11 3.43982239e+12], MSE = 1.6097751254126778e+26\n",
      "таргет = [45, 55, 50, 55, 60, 35, 75, 80, 50, 60] предсказанное значение = [-3.52099789e+12 -3.52099789e+12 -6.50152343e+12 -1.54431000e+13\n",
      " -9.48204897e+12 -5.40472352e+11 -1.54431000e+13 -3.03457277e+13\n",
      " -3.52099789e+12 -6.50152343e+12]\n",
      "Iteration #55: W_new = [-8.01882618e+11 -4.42211635e+12], MSE = 3.204809271874406e+26\n",
      "таргет = [45, 55, 50, 55, 60, 35, 75, 80, 50, 60] предсказанное значение = [4.96803049e+12 4.96803049e+12 9.17346947e+12 2.17897864e+13\n",
      " 1.33789084e+13 7.62591518e+11 2.17897864e+13 4.28169813e+13\n",
      " 4.96803049e+12 9.17346947e+12]\n",
      "Iteration #60: W_new = [6.33095487e+11 3.49131137e+12], MSE = 2.4278022807034243e+26\n",
      "таргет = [45, 55, 50, 55, 60, 35, 75, 80, 50, 60] предсказанное значение = [-4.32404113e+12 -4.32404113e+12 -7.98434296e+12 -1.89652484e+13\n",
      " -1.16446448e+13 -6.63739301e+11 -1.89652484e+13 -3.72667576e+13\n",
      " -4.32404113e+12 -7.98434296e+12]\n",
      "Iteration #65: W_new = [-2.99199048e+11 -1.64998339e+12], MSE = 6.657976636940571e+25\n",
      "таргет = [45, 55, 50, 55, 60, 35, 75, 80, 50, 60] предсказанное значение = [2.26440598e+12 2.26440598e+12 4.18122616e+12 9.93168673e+12\n",
      " 6.09804635e+12 3.47585787e+11 9.93168673e+12 1.95157877e+13\n",
      " 2.26440598e+12 4.18122616e+12]\n",
      "Iteration #70: W_new = [8.21411653e+10 4.52981249e+11], MSE = 6.235908091790717e+24\n",
      "таргет = [45, 55, 50, 55, 60, 35, 75, 80, 50, 60] предсказанное значение = [-6.92999644e+11 -6.92999644e+11 -1.27962401e+12 -3.03949709e+12\n",
      " -1.86624837e+12 -1.06375283e+11 -3.03949709e+12 -5.97261889e+12\n",
      " -6.92999644e+11 -1.27962401e+12]\n",
      "Iteration #75: W_new = [-1.26429989e+10 -6.97219409e+10], MSE = 1.8620989560855914e+23\n",
      "таргет = [45, 55, 50, 55, 60, 35, 75, 80, 50, 60] предсказанное значение = [1.19752486e+11 1.19752486e+11 2.21122993e+11 5.25234515e+11\n",
      " 3.22493500e+11 1.83819786e+10 5.25234515e+11 1.03208705e+12\n",
      " 1.19752486e+11 2.21122993e+11]\n",
      "Iteration #80: W_new = [1.04544910e+09 5.76530437e+09], MSE = 1.6324612767497475e+21\n",
      "таргет = [45, 55, 50, 55, 60, 35, 75, 80, 50, 60] предсказанное значение = [-1.12125554e+10 -1.12125554e+10 -2.07039862e+10 -4.91782785e+10\n",
      " -3.01954170e+10 -1.72112459e+09 -4.91782785e+10 -9.66354325e+10\n",
      " -1.12125554e+10 -2.07039862e+10]\n",
      "Iteration #85: W_new = [-4.40835605e+07 -2.43106440e+08], MSE = 3.799992739822778e+18\n",
      "таргет = [45, 55, 50, 55, 60, 35, 75, 80, 50, 60] предсказанное значение = [5.40971744e+08 5.40971744e+08 9.98904414e+08 2.37270242e+09\n",
      " 1.45683708e+09 8.30390734e+07 2.37270242e+09 4.66236578e+09\n",
      " 5.40971744e+08 9.98904414e+08]\n",
      "Iteration #90: W_new = [ 888234.7570867  4898075.90829759], MSE = 2072709219083530.5\n",
      "таргет = [45, 55, 50, 55, 60, 35, 75, 80, 50, 60] предсказанное значение = [-1.26342851e+07 -1.26342851e+07 -2.33292478e+07 -5.54141360e+07\n",
      " -3.40242105e+07 -1.93932239e+06 -5.54141360e+07 -1.08888950e+08\n",
      " -1.26342851e+07 -2.33292478e+07]\n",
      "Iteration #95: W_new = [ -7820.9833836  -43374.08232416], MSE = 225849698638.53\n",
      "таргет = [45, 55, 50, 55, 60, 35, 75, 80, 50, 60] предсказанное значение = [ 131933.00993626  131933.00993626  243576.89074202  578508.53315927\n",
      "  355220.77154777   20289.12913051  578508.53315927 1136727.93718804\n",
      "  131933.00993626  243576.89074202]\n",
      "Iteration #100: W_new = [ 72.36516229 154.99555243], MSE = 3982963.68\n",
      "таргет = [45, 55, 50, 55, 60, 35, 75, 80, 50, 60] предсказанное значение = [ -505.05648512  -505.05648512  -970.04888744 -2365.02609442\n",
      " -1435.04128977   -40.06408279 -2365.02609442 -4689.98810604\n",
      "  -505.05648512  -970.04888744]\n",
      "Iteration #105: W_new = [44.93841577  3.65142034], MSE = 52.48\n",
      "таргет = [45, 55, 50, 55, 60, 35, 75, 80, 50, 60] предсказанное значение = [49.60650687 49.60650687 54.12125724 67.66550834 58.6360076  45.0917565\n",
      " 67.66550834 90.23926018 49.60650687 54.12125724]\n",
      "Iteration #110: W_new = [44.98410874  3.82677304], MSE = 43.97\n",
      "таргет = [45, 55, 50, 55, 60, 35, 75, 80, 50, 60] предсказанное значение = [48.80841753 48.80841753 52.63531047 64.11598928 56.46220341 44.98152459\n",
      " 64.11598928 83.25045397 48.80841753 52.63531047]\n"
     ]
    }
   ],
   "source": [
    "n = X.shape[0]\n",
    "\n",
    "eta = 0.1 # меняю старт. скорость обучения\n",
    "n_iter = 115 # меняю кол-во итераций\n",
    "\n",
    "W = np.array([1, 0.5])\n",
    "print(f'Number of objects = {n} \\\n",
    "       \\nLearning rate = {eta} \\\n",
    "       \\nInitial weights = {W} \\n')\n",
    "\n",
    "for i in range(n_iter):\n",
    "    y_pred = np.dot(X, W)\n",
    "    err = calc_mse(y, y_pred)\n",
    "    for k in range(W.shape[0]):\n",
    "        W[k] -= eta * (1/n * 2 * X[:, k] @ (y_pred - y))\n",
    "    if i % 5 == 0: # Меняю условие уменьшения шага \n",
    "        eta /= 1.05 # Меняю скорость обучения при каждом посл. шаге\n",
    "        print(f'Iteration #{i}: W_new = {W}, MSE = {round(err, 2)}')\n",
    "        print(f'таргет = {y} предсказанное значение = {y_pred}') # добавляю на просмотр таргет и предсказание, \n",
    "        #для большего понимания тогности."
   ]
  },
  {
   "cell_type": "code",
   "execution_count": 8,
   "metadata": {},
   "outputs": [
    {
     "data": {
      "image/png": "[encoded data removed]",
      "text/plain": [
       "<Figure size 640x480 with 1 Axes>"
      ]
     },
     "metadata": {},
     "output_type": "display_data"
    }
   ],
   "source": [
    "# График для наглядности \n",
    "y_pred_grad = X @ W\n",
    "plt.scatter(X[:, 1], y)\n",
    "plt.plot(X[:, 1], y_pred_grad, label='gradient descent', c='g')\n",
    "plt.legend()\n",
    "plt.show()"
   ]
  },
  {
   "cell_type": "markdown",
   "metadata": {},
   "source": [
    "Небольшой вывод: пробуя различные значения параметров, получившиеся наиболее оптимальны, другие значения дают порой разительно отличающуюся от таргета картину с большим значением ошибки. "
   ]
  },
  {
   "cell_type": "markdown",
   "metadata": {
    "colab_type": "text",
    "id": "5Qu1o4JhZYwI"
   },
   "source": [
    "2*. В этом коде мы избавляемся от итераций по весам, но тут есть ошибка, исправьте ее.\n"
   ]
  },
  {
   "cell_type": "code",
   "execution_count": 9,
   "metadata": {},
   "outputs": [
    {
     "name": "stdout",
     "output_type": "stream",
     "text": [
      "Number of objects = 10        \n",
      "Learning rate = 0.01        \n",
      "Initial weights = [1.  0.5] \n",
      "\n"
     ]
    },
    {
     "ename": "ValueError",
     "evalue": "shapes (10,2) and (10,) not aligned: 2 (dim 1) != 10 (dim 0)",
     "output_type": "error",
     "traceback": [
      "\u001b[1;31m---------------------------------------------------------------------------\u001b[0m",
      "\u001b[1;31mValueError\u001b[0m                                Traceback (most recent call last)",
      "\u001b[1;32m~\\AppData\\Local\\Temp\\ipykernel_15660\\1775215932.py\u001b[0m in \u001b[0;36m<module>\u001b[1;34m\u001b[0m\n\u001b[0;32m     16\u001b[0m \u001b[1;31m#         W[k] -= eta * (1/n * 2 * X[:, k] @ (y_pred - y))\u001b[0m\u001b[1;33m\u001b[0m\u001b[1;33m\u001b[0m\u001b[0m\n\u001b[0;32m     17\u001b[0m     \u001b[1;31m# ИЗМЕНЕНИЯ\u001b[0m\u001b[1;33m\u001b[0m\u001b[1;33m\u001b[0m\u001b[0m\n\u001b[1;32m---> 18\u001b[1;33m     \u001b[0mW\u001b[0m \u001b[1;33m-=\u001b[0m \u001b[0meta\u001b[0m \u001b[1;33m*\u001b[0m \u001b[1;33m(\u001b[0m\u001b[1;36m1\u001b[0m\u001b[1;33m/\u001b[0m\u001b[0mn\u001b[0m \u001b[1;33m*\u001b[0m \u001b[1;36m2\u001b[0m \u001b[1;33m*\u001b[0m \u001b[0mnp\u001b[0m\u001b[1;33m.\u001b[0m\u001b[0mdot\u001b[0m\u001b[1;33m(\u001b[0m\u001b[0mX\u001b[0m\u001b[1;33m,\u001b[0m \u001b[0my_pred\u001b[0m \u001b[1;33m-\u001b[0m \u001b[0my\u001b[0m\u001b[1;33m)\u001b[0m\u001b[1;33m)\u001b[0m\u001b[1;33m\u001b[0m\u001b[1;33m\u001b[0m\u001b[0m\n\u001b[0m\u001b[0;32m     19\u001b[0m     \u001b[1;31m# ИЗМЕНЕНИЯ\u001b[0m\u001b[1;33m\u001b[0m\u001b[1;33m\u001b[0m\u001b[0m\n\u001b[0;32m     20\u001b[0m     \u001b[1;31m#\u001b[0m\u001b[1;33m\u001b[0m\u001b[1;33m\u001b[0m\u001b[0m\n",
      "\u001b[1;32m<__array_function__ internals>\u001b[0m in \u001b[0;36mdot\u001b[1;34m(*args, **kwargs)\u001b[0m\n",
      "\u001b[1;31mValueError\u001b[0m: shapes (10,2) and (10,) not aligned: 2 (dim 1) != 10 (dim 0)"
     ]
    }
   ],
   "source": [
    "# Дано:\n",
    "n = X.shape[0]\n",
    "\n",
    "eta = 1e-2 \n",
    "n_iter = 100\n",
    "\n",
    "W = np.array([1, 0.5])\n",
    "print(f'Number of objects = {n} \\\n",
    "       \\nLearning rate = {eta} \\\n",
    "       \\nInitial weights = {W} \\n')\n",
    "\n",
    "for i in range(n_iter):\n",
    "    y_pred = np.dot(X, W)\n",
    "    err = calc_mse(y, y_pred)\n",
    "#     for k in range(W.shape[0]):\n",
    "#         W[k] -= eta * (1/n * 2 * X[:, k] @ (y_pred - y))\n",
    "    # ИЗМЕНЕНИЯ\n",
    "    W -= eta * (1/n * 2 * np.dot(X, y_pred - y))\n",
    "    # ИЗМЕНЕНИЯ\n",
    "    #\n",
    "    if i % 10 == 0:\n",
    "        print(f'Iteration #{i}: W_new = {W}, MSE = {round(err,2)}')\n",
    "        "
   ]
  },
  {
   "cell_type": "markdown",
   "metadata": {},
   "source": [
    "Ошибка возникает из за несовподения размерности, исправим это:"
   ]
  },
  {
   "cell_type": "code",
   "execution_count": 10,
   "metadata": {},
   "outputs": [
    {
     "data": {
      "text/plain": [
       "((10, 2), 10)"
      ]
     },
     "execution_count": 10,
     "metadata": {},
     "output_type": "execute_result"
    }
   ],
   "source": [
    "(X).shape, len(y)"
   ]
  },
  {
   "cell_type": "code",
   "execution_count": 11,
   "metadata": {},
   "outputs": [
    {
     "data": {
      "text/plain": [
       "((2, 10), 10)"
      ]
     },
     "execution_count": 11,
     "metadata": {},
     "output_type": "execute_result"
    }
   ],
   "source": [
    "(X.T).shape, len(y)"
   ]
  },
  {
   "cell_type": "code",
   "execution_count": 12,
   "metadata": {
    "scrolled": false
   },
   "outputs": [
    {
     "name": "stdout",
     "output_type": "stream",
     "text": [
      "Number of objects = 10        \n",
      "Learning rate = 0.05        \n",
      "Initial weights = [1.  0.5] \n",
      "\n",
      "Iteration #0: W_new = [ 6.4  19.35], MSE = 3047.75\n",
      "таргет = [45, 55, 50, 55, 60, 35, 75, 80, 50, 60] предсказанное значение = [1.5 1.5 2.  3.5 2.5 1.  3.5 6.  1.5 2. ]\n",
      "Iteration #5: W_new = [12.89572   7.561976], MSE = 696.44\n",
      "таргет = [45, 55, 50, 55, 60, 35, 75, 80, 50, 60] предсказанное значение = [ 24.75544  24.75544  37.28392  74.86936  49.8124   12.22696  74.86936\n",
      " 137.51176  24.75544  37.28392]\n",
      "Iteration #10: W_new = [19.96966932  8.87179137], MSE = 379.6\n",
      "таргет = [45, 55, 50, 55, 60, 35, 75, 80, 50, 60] предсказанное значение = [26.50238623 26.50238623 34.44611813 58.27731384 42.38985004 18.55865432\n",
      " 58.27731384 97.99597336 26.50238623 34.44611813]\n",
      "Iteration #15: W_new = [25.09966637  7.30805593], MSE = 250.04\n",
      "таргет = [45, 55, 50, 55, 60, 35, 75, 80, 50, 60] предсказанное значение = [ 31.95861032  31.95861032  39.71951275  63.00222004  47.48041518\n",
      "  24.19770788  63.00222004 101.80673219  31.95861032  39.71951275]\n",
      "Iteration #20: W_new = [29.27719328  6.70531799], MSE = 172.93\n",
      "таргет = [45, 55, 50, 55, 60, 35, 75, 80, 50, 60] предсказанное значение = [35.28402183 35.28402183 42.05771048 62.37877641 48.83139912 28.51033319\n",
      " 62.37877641 96.24721963 35.28402183 42.05771048]\n",
      "Iteration #25: W_new = [32.55708499  6.07273699], MSE = 124.82\n",
      "таргет = [45, 55, 50, 55, 60, 35, 75, 80, 50, 60] предсказанное значение = [38.16048557 38.16048557 44.35827892 62.95165898 50.55607228 31.96269221\n",
      " 62.95165898 93.94062576 38.16048557 44.35827892]\n",
      "Iteration #30: W_new = [35.16120834  5.60976141], MSE = 94.66\n",
      "таргет = [45, 55, 50, 55, 60, 35, 75, 80, 50, 60] предсказанное значение = [40.37884673 40.37884673 46.07030816 63.14469245 51.76176959 34.6873853\n",
      " 63.14469245 91.60199959 40.37884673 46.07030816]\n",
      "Iteration #35: W_new = [37.22164999  5.23387381], MSE = 75.76\n",
      "таргет = [45, 55, 50, 55, 60, 35, 75, 80, 50, 60] предсказанное значение = [42.15001587 42.15001587 47.45281945 63.36123019 52.75562303 36.84721229\n",
      " 63.36123019 89.87524808 42.15001587 47.45281945]\n",
      "Iteration #40: W_new = [38.85365942  4.93848587], MSE = 63.9\n",
      "таргет = [45, 55, 50, 55, 60, 35, 75, 80, 50, 60] предсказанное значение = [43.54900101 43.54900101 48.54103559 63.51713931 53.53307016 38.55696644\n",
      " 63.51713931 88.47731219 43.54900101 48.54103559]\n",
      "Iteration #45: W_new = [40.14589571  4.70402391], MSE = 56.47\n",
      "таргет = [45, 55, 50, 55, 60, 35, 75, 80, 50, 60] предсказанное значение = [44.65768    44.65768    49.40436024 63.64440095 54.15104047 39.91099976\n",
      " 63.64440095 87.37780214 44.65768    49.40436024]\n",
      "Iteration #50: W_new = [41.16920131  4.51849616], MSE = 51.81\n",
      "таргет = [45, 55, 50, 55, 60, 35, 75, 80, 50, 60] предсказанное значение = [45.53539602 45.53539602 50.08760861 63.74424637 54.63982119 40.98318343\n",
      " 63.74424637 86.50530931 45.53539602 50.08760861]\n",
      "Iteration #55: W_new = [41.97951867  4.37154955], MSE = 48.88\n",
      "таргет = [45, 55, 50, 55, 60, 35, 75, 80, 50, 60] предсказанное значение = [46.23048334 46.23048334 50.62874696 63.82353782 55.02701058 41.83221973\n",
      " 63.82353782 85.81485591 46.23048334 50.62874696]\n",
      "Iteration #60: W_new = [42.62118483  4.25519525], MSE = 47.05\n",
      "таргет = [45, 55, 50, 55, 60, 35, 75, 80, 50, 60] предсказанное значение = [46.78088838 46.78088838 51.05723397 63.88627073 55.33357956 42.50454279\n",
      " 63.88627073 85.26799868 46.78088838 51.05723397]\n",
      "Iteration #65: W_new = [43.12929963  4.16305599], MSE = 45.9\n",
      "таргет = [45, 55, 50, 55, 60, 35, 75, 80, 50, 60] предсказанное значение = [47.21673981 47.21673981 51.39654499 63.9359605  55.57635016 43.03693464\n",
      " 63.9359605  84.83498636 47.21673981 51.39654499]\n",
      "Iteration #70: W_new = [43.53165976  4.0900943 ], MSE = 45.18\n",
      "таргет = [45, 55, 50, 55, 60, 35, 75, 80, 50, 60] предсказанное значение = [47.56187603 47.56187603 51.66523326 63.97530495 55.76859049 43.4585188\n",
      " 63.97530495 84.49209109 47.56187603 51.66523326]\n",
      "Iteration #75: W_new = [43.850276    4.03231813], MSE = 44.73\n",
      "таргет = [45, 55, 50, 55, 60, 35, 75, 80, 50, 60] предсказанное значение = [47.83517868 47.83517868 51.87799935 64.00646138 55.92082003 43.792358\n",
      " 64.00646138 84.22056476 47.83517868 51.87799935]\n",
      "Iteration #80: W_new = [44.10257814  3.98656703], MSE = 44.45\n",
      "таргет = [45, 55, 50, 55, 60, 35, 75, 80, 50, 60] предсказанное значение = [48.05159836 48.05159836 52.04648201 64.03113297 56.04136567 44.0567147\n",
      " 64.03113297 84.00555125 48.05159836 52.04648201]\n",
      "Iteration #85: W_new = [44.30236822  3.95033818], MSE = 44.27\n",
      "таргет = [45, 55, 50, 55, 60, 35, 75, 80, 50, 60] предсказанное значение = [48.22297427 48.22297427 52.17989812 64.05066968 56.13682198 44.26605042\n",
      " 64.05066968 83.83528894 48.22297427 52.17989812]\n",
      "Iteration #90: W_new = [44.46057568  3.9216497 ], MSE = 44.16\n",
      "таргет = [45, 55, 50, 55, 60, 35, 75, 80, 50, 60] предсказанное значение = [48.35868144 48.35868144 52.28554612 64.06614017 56.2124108  44.43181676\n",
      " 64.06614017 83.70046358 48.35868144 52.28554612]\n",
      "Iteration #95: W_new = [44.58585516  3.89893219], MSE = 44.09\n",
      "таргет = [45, 55, 50, 55, 60, 35, 75, 80, 50, 60] предсказанное значение = [48.46614365 48.46614365 52.36920543 64.07839076 56.27226721 44.56308188\n",
      " 64.07839076 83.59369964 48.46614365 52.36920543]\n",
      "Iteration #100: W_new = [44.68506002  3.88094292], MSE = 44.04\n",
      "таргет = [45, 55, 50, 55, 60, 35, 75, 80, 50, 60] предсказанное значение = [48.55123958 48.55123958 52.43545259 64.08809162 56.3196656  44.66702658\n",
      " 64.08809162 83.50915666 48.55123958 52.43545259]\n",
      "Iteration #105: W_new = [44.76361721  3.86669779], MSE = 44.01\n",
      "таргет = [45, 55, 50, 55, 60, 35, 75, 80, 50, 60] предсказанное значение = [48.61862436 48.61862436 52.48791163 64.09577342 56.35719889 44.7493371\n",
      " 64.09577342 83.44220974 48.61862436 52.48791163]\n",
      "Iteration #110: W_new = [44.82582417  3.85541751], MSE = 44.0\n",
      "таргет = [45, 55, 50, 55, 60, 35, 75, 80, 50, 60] предсказанное значение = [48.67198424 48.67198424 52.52945228 64.10185639 56.38692031 44.8145162\n",
      " 64.10185639 83.38919659 48.67198424 52.52945228]\n",
      "Iteration #115: W_new = [44.87508389  3.84648502], MSE = 43.99\n",
      "таргет = [45, 55, 50, 55, 60, 35, 75, 80, 50, 60] предсказанное значение = [48.71423824 48.71423824 52.562347   64.10667331 56.41045577 44.86612947\n",
      " 64.10667331 83.34721715 48.71423824 52.562347  ]\n",
      "Iteration #120: W_new = [44.91409111  3.83941166], MSE = 43.98\n",
      "таргет = [45, 55, 50, 55, 60, 35, 75, 80, 50, 60] предсказанное значение = [48.74769784 48.74769784 52.5883953  64.11048767 56.42909276 44.90700038\n",
      " 64.11048767 83.31397496 48.74769784 52.5883953 ]\n",
      "Iteration #125: W_new = [44.94497969  3.8338105 ], MSE = 43.98\n",
      "таргет = [45, 55, 50, 55, 60, 35, 75, 80, 50, 60] предсказанное значение = [48.77419344 48.77419344 52.60902212 64.11350815 56.4438508  44.93936477\n",
      " 64.11350815 83.28765153 48.77419344 52.60902212]\n",
      "Iteration #130: W_new = [44.96943938  3.82937511], MSE = 43.97\n",
      "таргет = [45, 55, 50, 55, 60, 35, 75, 80, 50, 60] предсказанное значение = [48.79517448 48.79517448 52.62535585 64.11589996 56.45553722 44.9649931\n",
      " 64.11589996 83.26680683 48.79517448 52.62535585]\n"
     ]
    }
   ],
   "source": [
    "n = X.shape[0]\n",
    "\n",
    "eta = 0.05 # меняю старт. скорость обучения\n",
    "n_iter = 135 # меняю кол-во итераций\n",
    "\n",
    "W = np.array([1, 0.5])\n",
    "print(f'Number of objects = {n} \\\n",
    "       \\nLearning rate = {eta} \\\n",
    "       \\nInitial weights = {W} \\n')\n",
    "\n",
    "for i in range(n_iter):\n",
    "    y_pred = np.dot(X, W)\n",
    "    err = calc_mse(y, y_pred)\n",
    "    W -= eta * (1/n * 2 * np.dot(X.T, y_pred - y)) # транспонируем матрицу, тем самым избавляемся от ошибки\n",
    "    if i % 5 == 0:# Меняю условие уменьшения шага \n",
    "        eta /= 1 # Меняю скорость обучения при каждом посл. шаге\n",
    "        print(f'Iteration #{i}: W_new = {W}, MSE = {round(err,2)}')\n",
    "        print(f'таргет = {y} предсказанное значение = {y_pred}') # добавляю на просмотр таргет и предсказание, \n",
    "        #для большего понимания тогности.\n"
   ]
  },
  {
   "cell_type": "code",
   "execution_count": 13,
   "metadata": {},
   "outputs": [
    {
     "data": {
      "image/png": "[encoded data removed]",
      "text/plain": [
       "<Figure size 640x480 with 1 Axes>"
      ]
     },
     "metadata": {},
     "output_type": "display_data"
    }
   ],
   "source": [
    "# График для наглядности \n",
    "y_pred_grad = X @ W\n",
    "plt.scatter(X[:, 1], y)\n",
    "plt.plot(X[:, 1], y_pred_grad, label='gradient descent', c='g')\n",
    "plt.legend()\n",
    "plt.show()"
   ]
  },
  {
   "cell_type": "markdown",
   "metadata": {},
   "source": [
    "3*. Вместо того, чтобы задавать количество итераций, задайте другое условие останова алгоритма - когда веса перестают изменяться меньше определенного порога  𝜖."
   ]
  },
  {
   "cell_type": "code",
   "execution_count": 14,
   "metadata": {},
   "outputs": [
    {
     "name": "stdout",
     "output_type": "stream",
     "text": [
      "Number of objects = 10        \n",
      "Learning rate = 0.05        \n",
      "Initial weights = [1.  0.5] \n",
      "\n",
      "Iteration #0: W_new = [ 6.4  19.35], MSE = 3047.75\n",
      "таргет = [45, 55, 50, 55, 60, 35, 75, 80, 50, 60] предсказанное значение = [1.5 1.5 2.  3.5 2.5 1.  3.5 6.  1.5 2. ]\n",
      "Iteration #10: W_new = [19.96966932  8.87179137], MSE = 379.6\n",
      "таргет = [45, 55, 50, 55, 60, 35, 75, 80, 50, 60] предсказанное значение = [26.50238623 26.50238623 34.44611813 58.27731384 42.38985004 18.55865432\n",
      " 58.27731384 97.99597336 26.50238623 34.44611813]\n",
      "Iteration #20: W_new = [29.27719328  6.70531799], MSE = 172.93\n",
      "таргет = [45, 55, 50, 55, 60, 35, 75, 80, 50, 60] предсказанное значение = [35.28402183 35.28402183 42.05771048 62.37877641 48.83139912 28.51033319\n",
      " 62.37877641 96.24721963 35.28402183 42.05771048]\n",
      "Iteration #30: W_new = [35.16120834  5.60976141], MSE = 94.66\n",
      "таргет = [45, 55, 50, 55, 60, 35, 75, 80, 50, 60] предсказанное значение = [40.37884673 40.37884673 46.07030816 63.14469245 51.76176959 34.6873853\n",
      " 63.14469245 91.60199959 40.37884673 46.07030816]\n",
      "Iteration #40: W_new = [38.85365942  4.93848587], MSE = 63.9\n",
      "таргет = [45, 55, 50, 55, 60, 35, 75, 80, 50, 60] предсказанное значение = [43.54900101 43.54900101 48.54103559 63.51713931 53.53307016 38.55696644\n",
      " 63.51713931 88.47731219 43.54900101 48.54103559]\n",
      "Iteration #50: W_new = [41.16920131  4.51849616], MSE = 51.81\n",
      "таргет = [45, 55, 50, 55, 60, 35, 75, 80, 50, 60] предсказанное значение = [45.53539602 45.53539602 50.08760861 63.74424637 54.63982119 40.98318343\n",
      " 63.74424637 86.50530931 45.53539602 50.08760861]\n",
      "Iteration #60: W_new = [42.62118483  4.25519525], MSE = 47.05\n",
      "таргет = [45, 55, 50, 55, 60, 35, 75, 80, 50, 60] предсказанное значение = [46.78088838 46.78088838 51.05723397 63.88627073 55.33357956 42.50454279\n",
      " 63.88627073 85.26799868 46.78088838 51.05723397]\n",
      "Iteration #70: W_new = [43.53165976  4.0900943 ], MSE = 45.18\n",
      "таргет = [45, 55, 50, 55, 60, 35, 75, 80, 50, 60] предсказанное значение = [47.56187603 47.56187603 51.66523326 63.97530495 55.76859049 43.4585188\n",
      " 63.97530495 84.49209109 47.56187603 51.66523326]\n",
      "Iteration #80: W_new = [44.10257814  3.98656703], MSE = 44.45\n",
      "таргет = [45, 55, 50, 55, 60, 35, 75, 80, 50, 60] предсказанное значение = [48.05159836 48.05159836 52.04648201 64.03113297 56.04136567 44.0567147\n",
      " 64.03113297 84.00555125 48.05159836 52.04648201]\n",
      "Iteration #90: W_new = [44.46057568  3.9216497 ], MSE = 44.16\n",
      "таргет = [45, 55, 50, 55, 60, 35, 75, 80, 50, 60] предсказанное значение = [48.35868144 48.35868144 52.28554612 64.06614017 56.2124108  44.43181676\n",
      " 64.06614017 83.70046358 48.35868144 52.28554612]\n",
      "Iteration #100: W_new = [44.68506002  3.88094292], MSE = 44.04\n",
      "таргет = [45, 55, 50, 55, 60, 35, 75, 80, 50, 60] предсказанное значение = [48.55123958 48.55123958 52.43545259 64.08809162 56.3196656  44.66702658\n",
      " 64.08809162 83.50915666 48.55123958 52.43545259]\n",
      "Iteration #110: W_new = [44.82582417  3.85541751], MSE = 44.0\n",
      "таргет = [45, 55, 50, 55, 60, 35, 75, 80, 50, 60] предсказанное значение = [48.67198424 48.67198424 52.52945228 64.10185639 56.38692031 44.8145162\n",
      " 64.10185639 83.38919659 48.67198424 52.52945228]\n",
      "Iteration #120: W_new = [44.91409111  3.83941166], MSE = 43.98\n",
      "таргет = [45, 55, 50, 55, 60, 35, 75, 80, 50, 60] предсказанное значение = [48.74769784 48.74769784 52.5883953  64.11048767 56.42909276 44.90700038\n",
      " 64.11048767 83.31397496 48.74769784 52.5883953 ]\n",
      "Iteration #130: W_new = [44.96943938  3.82937511], MSE = 43.97\n",
      "таргет = [45, 55, 50, 55, 60, 35, 75, 80, 50, 60] предсказанное значение = [48.79517448 48.79517448 52.62535585 64.11589996 56.45553722 44.9649931\n",
      " 64.11589996 83.26680683 48.79517448 52.62535585]\n",
      "Iteration #140: W_new = [45.00414582  3.82308163], MSE = 43.97\n",
      "таргет = [45, 55, 50, 55, 60, 35, 75, 80, 50, 60] предсказанное значение = [48.82494496 48.82494496 52.64853216 64.11929377 56.47211937 45.00135776\n",
      " 64.11929377 83.23722979 48.82494496 52.64853216]\n",
      "Iteration #150: W_new = [45.02590869  3.81913527], MSE = 43.97\n",
      "таргет = [45, 55, 50, 55, 60, 35, 75, 80, 50, 60] предсказанное значение = [48.84361271 48.84361271 52.663065   64.12142188 56.48251729 45.02416042\n",
      " 64.12142188 83.21868334 48.84361271 52.663065  ]\n",
      "Iteration #160: W_new = [45.03955522  3.81666068], MSE = 43.97\n",
      "таргет = [45, 55, 50, 55, 60, 35, 75, 80, 50, 60] предсказанное значение = [48.85531843 48.85531843 52.6721779  64.12275632 56.48903737 45.03845895\n",
      " 64.12275632 83.20705368 48.85531843 52.6721779 ]\n"
     ]
    }
   ],
   "source": [
    "n = X.shape[0]\n",
    "\n",
    "eta = 0.05 # меняем стартовую скорость обучения\n",
    "epsilon = 0.001 # берем адекватно малое число для условия выхода из цикла \n",
    "iter_num = 0\n",
    "\n",
    "W = np.array([1, 0.5])\n",
    "print(f'Number of objects = {n} \\\n",
    "       \\nLearning rate = {eta} \\\n",
    "       \\nInitial weights = {W} \\n')\n",
    "dist = np.inf\n",
    "\n",
    "while dist > epsilon:\n",
    "    y_pred = np.dot(X, W)\n",
    "    err = calc_mse(y, y_pred)\n",
    "\n",
    "    W_new = W - eta * (1/n * 2 * np.dot(X.T, y_pred - y))\n",
    "    dist = np.linalg.norm(W_new - W, ord=2)\n",
    "    W = W_new.copy()\n",
    "    \n",
    "    if iter_num % 10 == 0:\n",
    "        eta /= 1 # Меняю скорость обучения при каждом посл. шаге\n",
    "        print(f'Iteration #{iter_num}: W_new = {W}, MSE = {round(err,2)}')\n",
    "        print(f'таргет = {y} предсказанное значение = {y_pred}') # добавляю на просмотр таргет и предсказание, \n",
    "        #для большего понимания тогности.\n",
    "    iter_num += 1"
   ]
  },
  {
   "cell_type": "code",
   "execution_count": 15,
   "metadata": {},
   "outputs": [
    {
     "data": {
      "image/png": "[encoded data removed]",
      "text/plain": [
       "<Figure size 640x480 with 1 Axes>"
      ]
     },
     "metadata": {},
     "output_type": "display_data"
    }
   ],
   "source": [
    "# График для наглядности \n",
    "y_pred_grad = X @ W\n",
    "plt.scatter(X[:, 1], y)\n",
    "plt.plot(X[:, 1], y_pred_grad, label='gradient descent', c='g')\n",
    "plt.legend()\n",
    "plt.show()"
   ]
  },
  {
   "cell_type": "code",
   "execution_count": null,
   "metadata": {},
   "outputs": [],
   "source": []
  },
  {
   "cell_type": "code",
   "execution_count": null,
   "metadata": {},
   "outputs": [],
   "source": []
  }
 ],
 "metadata": {
  "colab": {
   "name": "Lesson_1.ipynb",
   "provenance": []
  },
  "kernelspec": {
   "display_name": "Python 3 (ipykernel)",
   "language": "python",
   "name": "python3"
  },
  "language_info": {
   "codemirror_mode": {
    "name": "ipython",
    "version": 3
   },
   "file_extension": ".py",
   "mimetype": "text/x-python",
   "name": "python",
   "nbconvert_exporter": "python",
   "pygments_lexer": "ipython3",
   "version": "3.9.13"
  }
 },
 "nbformat": 4,
 "nbformat_minor": 1
}

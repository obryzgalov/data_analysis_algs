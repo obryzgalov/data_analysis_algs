{
 "cells": [
  {
   "cell_type": "markdown",
   "id": "2eb3b9f5",
   "metadata": {},
   "source": [
    "1)Постройте график зависимости весов всех признаков от lambda в L2-регуляризации на основе данных из урока."
   ]
  },
  {
   "cell_type": "code",
   "execution_count": 74,
   "id": "9914ab74",
   "metadata": {},
   "outputs": [],
   "source": [
    "import numpy as np\n",
    "import pandas as pd\n",
    "import seaborn as sns\n",
    "import matplotlib.pyplot as plt\n",
    "from sklearn.linear_model import Ridge"
   ]
  },
  {
   "cell_type": "code",
   "execution_count": 75,
   "id": "a2adae56",
   "metadata": {},
   "outputs": [
    {
     "name": "stdout",
     "output_type": "stream",
     "text": [
      "[[   1    1  500    1]\n",
      " [   1    1  700    1]\n",
      " [   1    2  750    2]\n",
      " [   1    5  600    1]\n",
      " [   1    3 1450    2]\n",
      " [   1    0  800    1]\n",
      " [   1    5 1500    3]\n",
      " [   1   10 2000    3]\n",
      " [   1    1  450    1]\n",
      " [   1    2 1000    2]]\n",
      "[45, 55, 50, 55, 60, 35, 75, 80, 50, 60]\n"
     ]
    }
   ],
   "source": [
    "# 1. Постройте график зависимости весов всех признаков от lambda в самописной L2-регуляризации (на данных про ЕГЭ). Сделайте вывод\n",
    "\n",
    "\n",
    "X = np.array([[   1,    1,  500,    1],\n",
    "              [   1,    1,  700,    1],\n",
    "              [   1,    2,  750,    2],\n",
    "              [   1,    5,  600,    1],\n",
    "              [   1,    3, 1450,    2],\n",
    "              [   1,    0,  800,    1],\n",
    "              [   1,    5, 1500,    3],\n",
    "              [   1,   10, 2000,    3],\n",
    "              [   1,    1,  450,    1],\n",
    "              [   1,    2, 1000,    2]])\n",
    "\n",
    "y = [45, 55, 50, 55, 60, 35, 75, 80, 50, 60]\n",
    "print(X)\n",
    "print(y)"
   ]
  },
  {
   "cell_type": "code",
   "execution_count": 76,
   "id": "5b6af83e",
   "metadata": {},
   "outputs": [],
   "source": [
    "y = [45, 55, 50, 55, 60, 35, 75, 80, 50, 60]"
   ]
  },
  {
   "cell_type": "code",
   "execution_count": 77,
   "id": "c35b50f9",
   "metadata": {},
   "outputs": [],
   "source": [
    "def standard_scale(X):\n",
    "    mean = X.mean(axis=0)\n",
    "    std = X.std(axis=0)\n",
    "    return (X - mean) / std"
   ]
  },
  {
   "cell_type": "code",
   "execution_count": 78,
   "id": "036e7b80",
   "metadata": {},
   "outputs": [
    {
     "data": {
      "text/plain": [
       "array([[ 1.        , -0.70710678, -0.97958969, -0.89625816],\n",
       "       [ 1.        , -0.70710678, -0.56713087, -0.89625816],\n",
       "       [ 1.        , -0.35355339, -0.46401617,  0.38411064],\n",
       "       [ 1.        ,  0.70710678, -0.77336028, -0.89625816],\n",
       "       [ 1.        ,  0.        ,  0.97958969,  0.38411064],\n",
       "       [ 1.        , -1.06066017, -0.36090146, -0.89625816],\n",
       "       [ 1.        ,  0.70710678,  1.08270439,  1.66447944],\n",
       "       [ 1.        ,  2.47487373,  2.11385144,  1.66447944],\n",
       "       [ 1.        , -0.70710678, -1.08270439, -0.89625816],\n",
       "       [ 1.        , -0.35355339,  0.05155735,  0.38411064]])"
      ]
     },
     "execution_count": 78,
     "metadata": {},
     "output_type": "execute_result"
    }
   ],
   "source": [
    "X_st = X.copy().astype(np.float64)\n",
    "X_st[:, 1:4] = standard_scale(X_st[:, 1:4])\n",
    "X_st"
   ]
  },
  {
   "cell_type": "code",
   "execution_count": 79,
   "id": "96fa8757",
   "metadata": {},
   "outputs": [],
   "source": [
    "def calc_mse(y, y_pred):\n",
    "    err = np.mean((y - y_pred) ** 2)\n",
    "    return err"
   ]
  },
  {
   "cell_type": "code",
   "execution_count": 80,
   "id": "6926228f",
   "metadata": {},
   "outputs": [],
   "source": [
    "values = {}\n",
    "def gradient_descent_reg_l2(X, y, iterations, eta=1e-4, reg=1e-8):#0,00000001\n",
    "    W = np.random.randn(X.shape[1])\n",
    "    n = X.shape[0]\n",
    "    \n",
    "    for i in range(0, iterations):\n",
    "        y_pred = np.dot(X, W)\n",
    "        err = calc_mse(y, y_pred)\n",
    "        \n",
    "        dQ = 2/n * X.T @ (y_pred - y) # градиент функции ошибки\n",
    "        dReg = reg * W # градиент регуляризации\n",
    "        W -= eta * (dQ + dReg)\n",
    "        \n",
    "    values[reg] = W\n",
    "    return W"
   ]
  },
  {
   "cell_type": "code",
   "execution_count": 81,
   "id": "92021640",
   "metadata": {},
   "outputs": [
    {
     "data": {
      "text/plain": [
       "array([56.49717514,  6.30234588, -0.35437787,  6.5698973 ])"
      ]
     },
     "execution_count": 81,
     "metadata": {},
     "output_type": "execute_result"
    }
   ],
   "source": [
    "gradient_descent_reg_l2(X_st, y, iterations=5000, eta=1e-1, reg=1e-4)"
   ]
  },
  {
   "cell_type": "code",
   "execution_count": 82,
   "id": "7c4eacaf",
   "metadata": {},
   "outputs": [],
   "source": [
    "for i in [0.0001, 0.001, 0.01, 0.1]:\n",
    "    gradient_descent_reg_l2(X_st, y, iterations=2000, eta=1e-1, reg=i)"
   ]
  },
  {
   "cell_type": "code",
   "execution_count": 83,
   "id": "434473c5",
   "metadata": {},
   "outputs": [
    {
     "data": {
      "text/plain": [
       "{0.0001: array([56.49717514,  6.30234588, -0.35437787,  6.5698973 ]),\n",
       " 0.001: array([56.47176412,  6.29563963, -0.33636842,  6.55575571]),\n",
       " 0.01: array([56.21890547,  6.23069221, -0.16470894,  6.42099175]),\n",
       " 0.1: array([53.80952381,  5.73058923,  0.98368247,  5.51609991])}"
      ]
     },
     "execution_count": 83,
     "metadata": {},
     "output_type": "execute_result"
    }
   ],
   "source": [
    "values"
   ]
  },
  {
   "cell_type": "code",
   "execution_count": 84,
   "id": "3fa1a098",
   "metadata": {},
   "outputs": [],
   "source": [
    "df = pd.DataFrame.from_dict(values)"
   ]
  },
  {
   "cell_type": "code",
   "execution_count": 85,
   "id": "9b4c764b",
   "metadata": {},
   "outputs": [
    {
     "data": {
      "text/html": [
       "<div>\n",
       "<style scoped>\n",
       "    .dataframe tbody tr th:only-of-type {\n",
       "        vertical-align: middle;\n",
       "    }\n",
       "\n",
       "    .dataframe tbody tr th {\n",
       "        vertical-align: top;\n",
       "    }\n",
       "\n",
       "    .dataframe thead th {\n",
       "        text-align: right;\n",
       "    }\n",
       "</style>\n",
       "<table border=\"1\" class=\"dataframe\">\n",
       "  <thead>\n",
       "    <tr style=\"text-align: right;\">\n",
       "      <th></th>\n",
       "      <th>0</th>\n",
       "      <th>1</th>\n",
       "      <th>2</th>\n",
       "      <th>3</th>\n",
       "    </tr>\n",
       "  </thead>\n",
       "  <tbody>\n",
       "    <tr>\n",
       "      <th>0.0001</th>\n",
       "      <td>56.497175</td>\n",
       "      <td>6.302346</td>\n",
       "      <td>-0.354378</td>\n",
       "      <td>6.569897</td>\n",
       "    </tr>\n",
       "    <tr>\n",
       "      <th>0.0010</th>\n",
       "      <td>56.471764</td>\n",
       "      <td>6.295640</td>\n",
       "      <td>-0.336368</td>\n",
       "      <td>6.555756</td>\n",
       "    </tr>\n",
       "    <tr>\n",
       "      <th>0.0100</th>\n",
       "      <td>56.218905</td>\n",
       "      <td>6.230692</td>\n",
       "      <td>-0.164709</td>\n",
       "      <td>6.420992</td>\n",
       "    </tr>\n",
       "    <tr>\n",
       "      <th>0.1000</th>\n",
       "      <td>53.809524</td>\n",
       "      <td>5.730589</td>\n",
       "      <td>0.983682</td>\n",
       "      <td>5.516100</td>\n",
       "    </tr>\n",
       "  </tbody>\n",
       "</table>\n",
       "</div>"
      ],
      "text/plain": [
       "                0         1         2         3\n",
       "0.0001  56.497175  6.302346 -0.354378  6.569897\n",
       "0.0010  56.471764  6.295640 -0.336368  6.555756\n",
       "0.0100  56.218905  6.230692 -0.164709  6.420992\n",
       "0.1000  53.809524  5.730589  0.983682  5.516100"
      ]
     },
     "execution_count": 85,
     "metadata": {},
     "output_type": "execute_result"
    }
   ],
   "source": [
    "df2 = df.T\n",
    "df2"
   ]
  },
  {
   "cell_type": "code",
   "execution_count": 86,
   "id": "831498ca",
   "metadata": {},
   "outputs": [
    {
     "data": {
      "image/png": "[encoded data removed]",
      "text/plain": [
       "<Figure size 1200x600 with 4 Axes>"
      ]
     },
     "metadata": {},
     "output_type": "display_data"
    }
   ],
   "source": [
    "plt.figure(figsize=(12, 6))\n",
    "\n",
    "plt.subplot(2,2,1)\n",
    "\n",
    "sns.barplot(data = df2, x = df2.index, y = df2.iloc[:,0])\n",
    "plt.ylim(53, 57)\n",
    "plt.yticks(np.arange(53,57,0.5))\n",
    "\n",
    "plt.subplot(2,2,2)\n",
    "\n",
    "sns.barplot(data = df2, x = df2.index, y = df2.iloc[:,1])\n",
    "plt.ylim(5, 6.5)\n",
    "plt.yticks(np.arange(5,6.5,0.2))\n",
    "\n",
    "plt.subplot(2,2,3)\n",
    "\n",
    "sns.barplot(data = df2, x = df2.index, y = df2.iloc[:,2])\n",
    "\n",
    "plt.subplot(2,2,4)\n",
    "\n",
    "sns.barplot(data = df2, x = df2.index, y = df2.iloc[:,3])\n",
    "plt.ylim(5, 6.7)\n",
    "plt.yticks(np.arange(5,6.7,0.2))\n",
    "\n",
    "plt.show()"
   ]
  },
  {
   "cell_type": "markdown",
   "id": "6572833f",
   "metadata": {},
   "source": [
    "2)Можно ли к одному и тому же признаку применить сразу и нормализацию, и стандартизацию?\n",
    "Нет. Это бессмысленно.\n",
    "Нормализация данных это приведение их к общему распределению в диапазоне от 0 до 1\n",
    "Стандартизация это приведение данных к единому формату распределения где 0 это среднее, а 1 это разброс. \n",
    "В нормализации 0 будет наименьшим значением, в стандартизации 0 будет средним."
   ]
  },
  {
   "cell_type": "code",
   "execution_count": 88,
   "id": "9f3e7389",
   "metadata": {},
   "outputs": [
    {
     "data": {
      "text/plain": [
       "0"
      ]
     },
     "execution_count": 88,
     "metadata": {},
     "output_type": "execute_result"
    }
   ],
   "source": [
    "np.sign(0)"
   ]
  },
  {
   "cell_type": "code",
   "execution_count": 89,
   "id": "f878220c",
   "metadata": {},
   "outputs": [],
   "source": [
    "def gradient_descent_reg_l1(X, y, iterations, eta=0.0001, reg=0.0000001):\n",
    "    W = np.random.randn(X.shape[1])\n",
    "    n = X.shape[0]\n",
    "    \n",
    "    for i in range(0, iterations):\n",
    "        y_pred = np.dot(X, W)\n",
    "        err = calc_mse(y, y_pred)\n",
    "        \n",
    "        dQ = 2/n * X.T @ (y_pred - y) # градиент функции ошибки\n",
    "        dReg = reg * np.sign(W) # градиент регуляризации, через L1 норму\n",
    "        \n",
    "        W -= eta * (dQ + dReg)\n",
    "        \n",
    "        if i % (iterations / 10) == 0:\n",
    "            print(f'Iter: {i}, weights: {W}, error {err}')\n",
    "    \n",
    "    print(f'Final MSE: {calc_mse(y, np.dot(X, W))}')\n",
    "    return W"
   ]
  },
  {
   "cell_type": "code",
   "execution_count": 90,
   "id": "a5488111",
   "metadata": {},
   "outputs": [
    {
     "name": "stdout",
     "output_type": "stream",
     "text": [
      "Iter: 0, weights: [11.63363551  1.72934924  2.41368224  2.60421809], error 3290.4133067476796\n",
      "Iter: 20, weights: [55.97778368  5.16660746  2.50813757  4.71888504], error 26.81898234405686\n",
      "Iter: 40, weights: [56.4890369   5.76218054  1.47286483  5.21025886], error 25.49895687621677\n",
      "Iter: 60, weights: [56.49493125  6.00667492  0.8345854   5.63010926], error 25.160044626123856\n",
      "Iter: 80, weights: [56.49499921  6.12440391  0.42592162  5.93590048], error 25.01621774585611\n",
      "Iter: 100, weights: [56.49499999  6.18933936  0.15948089  6.14653381], error 24.953570670133633\n",
      "Iter: 120, weights: [ 5.64950000e+01  6.22818203e+00 -1.20923108e-02  6.28802872e+00], error 24.92626153560566\n",
      "Iter: 140, weights: [56.495       6.24503033 -0.10756644  6.37052696], error 24.91579051060799\n",
      "Iter: 160, weights: [56.495       6.25728097 -0.17138032  6.42412055], error 24.91075650128412\n",
      "Iter: 180, weights: [56.495       6.26577078 -0.2137427   6.45935782], error 24.908252047952608\n",
      "Final MSE: 24.906957166266672\n"
     ]
    },
    {
     "data": {
      "text/plain": [
       "array([56.495     ,  6.27126756, -0.24067419,  6.48166482])"
      ]
     },
     "execution_count": 90,
     "metadata": {},
     "output_type": "execute_result"
    }
   ],
   "source": [
    "gradient_descent_reg_l1(X_st, y, iterations=200, eta=0.1, reg=0.01)"
   ]
  },
  {
   "cell_type": "markdown",
   "id": "f7ed4b50",
   "metadata": {},
   "source": [
    "немного работы с параметрами штрафа и количеством итераций"
   ]
  },
  {
   "cell_type": "code",
   "execution_count": null,
   "id": "30f63666",
   "metadata": {},
   "outputs": [],
   "source": []
  }
 ],
 "metadata": {
  "kernelspec": {
   "display_name": "Python 3 (ipykernel)",
   "language": "python",
   "name": "python3"
  },
  "language_info": {
   "codemirror_mode": {
    "name": "ipython",
    "version": 3
   },
   "file_extension": ".py",
   "mimetype": "text/x-python",
   "name": "python",
   "nbconvert_exporter": "python",
   "pygments_lexer": "ipython3",
   "version": "3.9.13"
  }
 },
 "nbformat": 4,
 "nbformat_minor": 5
}
